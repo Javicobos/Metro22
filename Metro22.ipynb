{
  "nbformat": 4,
  "nbformat_minor": 0,
  "metadata": {
    "colab": {
      "name": "Metro2.ipynb",
      "provenance": [],
      "authorship_tag": "ABX9TyO78kx/fS5zqQKiMOxNz2l5",
      "include_colab_link": true
    },
    "kernelspec": {
      "name": "python3",
      "display_name": "Python 3"
    },
    "language_info": {
      "name": "python"
    }
  },
  "cells": [
    {
      "cell_type": "markdown",
      "metadata": {
        "id": "view-in-github",
        "colab_type": "text"
      },
      "source": [
        "<a href=\"https://colab.research.google.com/github/Javicobos/Metro22/blob/master/Metro22.ipynb\" target=\"_parent\"><img src=\"https://colab.research.google.com/assets/colab-badge.svg\" alt=\"Open In Colab\"/></a>"
      ]
    },
    {
      "cell_type": "code",
      "execution_count": 7,
      "metadata": {
        "id": "qpwt8sCKD6D3"
      },
      "outputs": [],
      "source": [
        "L1 = [\"Pinar de Chamartín\", \"Bambú\", \"Chamartín\", \"Plaza de Castilla\", \"Valdeacederas\", \"Tetuán\", \"Estrecho\",\n",
        "        \"Alvarado\", \"Cuatro Caminos\", \"Ríos Rosas\", \"Iglesia\", \"Bilbao\", \"Tribunal\", \"Gran Vía\", \n",
        "        \"Sol\", \"Tirso de Molina\", \"Antón Martín\", \"Estación del Arte\", \"Atocha Renfe\", \"Menéndez Pelayo\", \n",
        "        \"Pacífico\", \"Puente de Vallecas\", \"Nueva Numancia\", \"Portazgo\", \"Alto del Arenal\", \"Miguel Hernández\", \n",
        "        \"Sierra de Guadalupe\", \"Villa de Vallecas\", \"Congosto\", \"La Gavía\", \"Las Suertes\", \"Valdecarros\"]\n",
        "L2 = [\"Cuatro Caminos\", \"Canal\", \"Quevedo\", \"San Bernardo\", \"Noviciado\", \"Santo Domingo\", \"Ópera\", \"Sol\",\n",
        "        \"Sevilla\", \"Banco de España\", \"Retiro\", \"Príncipe de Vergara\", \"Goya\", \"Manuel Becerra\", \"Ventas\", \n",
        "        \"La Elipa\", \"La Almudena\", \"Alsacia\", \"Avenida de Guadalajara\", \"Las Rosas\"]\n",
        "L3 = [\"Moncloa\", \"Argüelles\", \"Ventura Rodríguez\", \"Plaza de España\", \"Callao\", \"Sol\", \"Lavapiés\",\n",
        "        \"Embajadores\", \"Palos de la Frontera\", \"Delicias\", \"Legazpi\", \"Almendrales\", \n",
        "        \"Hospital 12 de Octubre\", \"San Fermín\", \"Ciudad de los Ángeles\", \n",
        "        \"Cruce de Villaverde\", \"San Cristóbal\", \"Villaverde Alto\"]\n",
        "L4 = [\"Argüelles\", \"San Bernardo\", \"Bilbao\", \"Alonso Martínez\", \"Colón\", \"Serrano\", \"Velázquez\", \"Goya\", \n",
        "        \"Lista\", \"Diego de León\", \"Avenida de América\", \"Prosperidad\", \"Alfonso XIII\", \"Avenida de la Paz\", \n",
        "        \"Arturo Soria\", \"Esperanza\", \"Canillas\", \"Mar de Cristal\", \"San Lorenzo\", \"Parque de Santa María\", \n",
        "        \"Hortaleza\", \"Manoteras\", \"Pinar de Chamartín\"]\n",
        "L5 = [\"Casa de Campo\", \"Campamento\", \"Empalme\", \"Aluche\", \"Eugenia de Montijo\", \"Carabanchel\", \"Vista Alegre\", \n",
        "        \"Oporto\", \"Urgel\", \"Marqués de Vadillo\", \"Pirámides\", \"Acacias\", \"Puerta de Toledo\", \"La Latina\", \n",
        "        \"Ópera\", \"Callao\", \"Gran Vía\", \"Chueca\", \"Alonso Martínez\", \"Rubén Darío\", \"Núñez de Balboa\", \n",
        "        \"Diego de León\", \"Ventas\", \"El Carmen\", \"Quintana\", \"Pueblo Nuevo\", \"Ciudad Lineal\", \"Suanzes\", \n",
        "        \"Torre Arias\", \"Canillejas\", \"El Capricho\", \"Alameda de Osuna\"]\n",
        "L6 = [\"Moncloa\", \"Argüelles\", \"Príncipe Pío\", \"Puera del Ángel\", \"Alto de Extremadura\", \"Lucero\", \n",
        "        \"Laguna\", \"Carpetana\", \"Oporto\", \"Opañel\", \"Plaza Elíptica\", \"Usera\", \n",
        "        \"Legazpi\", \"Arganzuela-Planetario\", \"Méndez Álvaro\", \"Pacífico\", \"Conde de Casal\", \n",
        "        \"Sainz de Baranda\",  \"O'Donnell\", \"Manuel Becerra\", \"Diego de León\", \"Avenida de América\", \n",
        "        \"República Argentina\", \"Nuevos Ministerios\", \"Cuatro Caminos\", \"Guzmán el Bueno\", \n",
        "        \"Vicente Aleixandre\", \"Ciudad Universitaria\", \"Moncloa\"]\n",
        "L7 = [\"Pitis\", \"Arroyofresno\", \"Lacoma\", \"Avenida de la Ilustración\", \"Peñagrande\", \"Antonio Machado\",\n",
        "        \"Valdezarza\", \"Francos Rodríguez\", \"Guzmán el Bueno\", \"Islas Filipinas\", \"Canal\", \"Alonso Cano\", \n",
        "        \"Gregorio Marañón\", \"Avenida de América\", \"Cartagena\", \"Parque de las Avenidas\", \"Barrio de la Concepción\", \n",
        "        \"Pueblo Nuevo\", \"Ascao\", \"García Noblejas\", \"Simancas\", \"San Blas\", \"Las Musas\", \"Estadio Metropolitano\", \n",
        "        \"Barrio del Puerto\", \"Coslada Central\", \"La Rambla\", \"San Fernando\", \"Jarama\", \"Henares\", \"Hospital del Henares\"]\n",
        "L8 = [\"Nuevos Ministerios\", \"Colombia\", \"Pinar del Rey\", \"Mar de Cristal\", \"Feria de Madrid\", \"Aeropuerto T1-T2-T3\", \n",
        "        \"Barajas\", \"Aeropuerto T-4\"]\n",
        "L9 = [\"Paco de Lucía\", \"Mirasierra\", \"Herrera Oria\", \"Barrio del Pilar\", \"Ventilla\", \"Plaza de Castilla\", \n",
        "        \"Duque de Pastrana\", \"Pío XII\", \"Colombia\", \"Concha Espina\", \"Cruz del Rayo\", \"Avenida de América\", \n",
        "        \"Núñez de Balboa\", \"Príncipe de Vergara\", \"Ibiza\", \"Sainz de Baranda\", \"Estrella\", \"Vinateros\", \n",
        "        \"Artilleros\", \"Pavones\", \"Valdebernardo\", \"Vicálvaro\", \"San Cipriano\", \"Puerta de Arganda\", \n",
        "        \"Rivas Urbanizaciones\", \"Rivas Futura\", \"Rivas Vaciamadrid\", \"La Poveda\", \"Arganda del Rey\"]\n",
        "L10 = [\"Hospital Infanta Sofía\", \"Reyes Católicos\", \"Baunatal\", \"Manuel de Falla\", \"Marqués de la Valdavia\", \n",
        "        \"La Moraleja\", \"La Granja\", \"Ronda de la Comunicación\", \"Las Tablas\", \"Montecarmelo\", \"Tres Olivos\", \n",
        "        \"Fuencarral\", \"Begoña\", \"Chamartín\", \"Plaza de Castilla\", \"Cuzco\", \"Santiago Bernabéu\", \"Nuevos Ministerios\", \n",
        "        \"Gregorio Marañón\", \"Alonso Martínez\", \"Tribunal\", \"Plaza de España\", \"Príncipe Pío\", \"Lago\", \"Batán\", \n",
        "        \"Casa de Campo\", \"Colonia Jardín\", \"Aviación Española\", \"Cuatro Vientos\", \"Joaquín Vilumbrales\", \"Puerta del Sur\"]\n",
        "L11 = [\"Plaza Elíptica\", \"Abrantes\", \"Pan Bendito\", \"San Francisco\", \"Carabanchel Alto\", \"La Peseta\", \"La Fortuna\"]\n",
        "L12 = [\"Puerta del Sur\" ,\"Parque de Lisboa\", \"Alcorcón Central\", \"Parque Oeste\", \"Universidad Rey Juan Carlos\", \n",
        "        \"Móstoles Central\", \"Pradillo\", \"Hospital del Móstoles\", \"Manuela Malasaña\", \"Loranca\", \"Hopsital de Fuenlabrada\",\n",
        "        \"Parque Europa\", \"Fuenlabrada Central\", \"Parque de los Estado\", \"Arroyo Culebro\", \"Conservatorio\", \"Alonso de Mendoza\", \n",
        "        \"Getafe Central\", \"Juan de la Cierva\", \"El Casar\", \"Los Espartales\", \"El Bercial\", \"El Carrascal\", \"Julián Besteiro\", \n",
        "        \"Casa del Reloj\", \"Hospital Severo Ochoa\", \"Leganés Central\", \"San Nicasio\", \"Puerta del Sur\"]\n",
        "R = [\"Ópera\", \"Príncipe Pío\"]\n",
        "FullMetro = [L1, L2, L3, L4, L5, L6, L7, L8, L9, L10, L11, L12, R]"
      ]
    },
    {
      "cell_type": "code",
      "source": [
        "connections = []\n",
        "allStationsSimplelist = []\n",
        "\n",
        "def isStationThere(station):\n",
        "    for i,sublist in enumerate(connections):\n",
        "        if sublist[0][0] == station:\n",
        "            return i\n",
        "    return -1\n",
        "\n",
        "def makeConnections():\n",
        "    for line in FullMetro:\n",
        "        for station in line:\n",
        "            if station not in allStationsSimplelist:\n",
        "                allStationsSimplelist.append(station)\n",
        "    for line in FullMetro:\n",
        "        lastStationIndex = len(line) - 1\n",
        "        for e,station in enumerate(line):\n",
        "            stationIndex = isStationThere(station)\n",
        "            if stationIndex == -1:\n",
        "                stationIndex = allStationsSimplelist.index(station)\n",
        "                connections.append([(station, stationIndex)])\n",
        "            else:\n",
        "                stationIndex = allStationsSimplelist.index(station)\n",
        "            if e > 0:\n",
        "                for i,subtuple in enumerate(connections[stationIndex]):\n",
        "                    if subtuple[0] == line[e-1]:\n",
        "                        break\n",
        "                else:\n",
        "                    connections[stationIndex].append((line[e-1], allStationsSimplelist.index(line[e-1])))\n",
        "            if e < lastStationIndex:\n",
        "                for i,subtuple in enumerate(connections[stationIndex]):\n",
        "                    if subtuple[0] == line[e+1]:\n",
        "                        break\n",
        "                else:\n",
        "                    connections[stationIndex].append((line[e+1], allStationsSimplelist.index(line[e+1])))\n",
        "                \n",
        "import cProfile"
      ],
      "metadata": {
        "id": "3WzPyhisEZhS"
      },
      "execution_count": 8,
      "outputs": []
    },
    {
      "cell_type": "code",
      "source": [
        "cProfile.run('makeConnections()')"
      ],
      "metadata": {
        "colab": {
          "base_uri": "https://localhost:8080/"
        },
        "id": "UkNVQghdFkRL",
        "outputId": "23dc3ba6-7600-49e3-f0de-4d0d855c7d28"
      },
      "execution_count": 9,
      "outputs": [
        {
          "output_type": "stream",
          "name": "stdout",
          "text": [
            "         2181 function calls in 0.010 seconds\n",
            "\n",
            "   Ordered by: standard name\n",
            "\n",
            "   ncalls  tottime  percall  cumtime  percall filename:lineno(function)\n",
            "        1    0.002    0.002    0.010    0.010 <ipython-input-8-ba6c61b608c1>:10(makeConnections)\n",
            "      291    0.005    0.000    0.005    0.000 <ipython-input-8-ba6c61b608c1>:4(isStationThere)\n",
            "        1    0.000    0.000    0.010    0.010 <string>:1(<module>)\n",
            "        1    0.000    0.000    0.010    0.010 {built-in method builtins.exec}\n",
            "       13    0.000    0.000    0.000    0.000 {built-in method builtins.len}\n",
            "     1032    0.000    0.000    0.000    0.000 {method 'append' of 'list' objects}\n",
            "        1    0.000    0.000    0.000    0.000 {method 'disable' of '_lsprof.Profiler' objects}\n",
            "      841    0.002    0.000    0.002    0.000 {method 'index' of 'list' objects}\n",
            "\n",
            "\n"
          ]
        }
      ]
    },
    {
      "cell_type": "code",
      "source": [
        "def connectTwoStationsSecondWay(station1, station2):\n",
        "    if isStationThere(station1) == -1 or isStationThere(station2) == -1:\n",
        "        print (\"No conozco esa estación!\")\n",
        "        return False\n",
        "    if station1 == station2:\n",
        "        print (\"Un viaje rapitido\")\n",
        "        return 0\n",
        "    bread = []\n",
        "    trips = 0\n",
        "    bread.append([(station1, 0)])\n",
        "    foundStationsSimpleList = [(station1, isStationThere(station1))]\n",
        "    while True:\n",
        "        nextTripLevel = []\n",
        "        for i,stationTuple in enumerate(bread[trips]):\n",
        "            for neighbor in connections[isStationThere(stationTuple[0])][1:]:\n",
        "                if neighbor not in foundStationsSimpleList:\n",
        "                    nextTripLevel.append((neighbor[0], i))\n",
        "                    foundStationsSimpleList.append(neighbor)\n",
        "                    if neighbor[0] == station2:\n",
        "                        j = i\n",
        "                        toPrint = [neighbor[0]]\n",
        "                        print (\"Puedes ir de \" + station1 + ' a ' + station2 + \" en \" + str(trips + 1) + \" viajes pasando por:\")\n",
        "                        while trips > -1:\n",
        "                            city,j = bread[trips][j]\n",
        "                            trips -= 1\n",
        "                            toPrint.append(city)\n",
        "                        toPrint.reverse()\n",
        "                        for k,a in enumerate(toPrint):\n",
        "                            print (str(k) + \": \" + a)\n",
        "                        return trips + 1\n",
        "        bread.append(nextTripLevel)\n",
        "        trips += 1"
      ],
      "metadata": {
        "id": "g0wQ40A7FDdR"
      },
      "execution_count": 14,
      "outputs": []
    },
    {
      "cell_type": "code",
      "source": [
        "cProfile.run('connectTwoStationsSecondWay(\"Casa de Campo\", \"Hospital del Henares\")')"
      ],
      "metadata": {
        "id": "FhjopakaFF0g"
      },
      "execution_count": null,
      "outputs": []
    },
    {
      "cell_type": "code",
      "source": [
        "def longestFromStation(station):\n",
        "\tbread = []\n",
        "\ttrips = 0\n",
        "\ttotalStations = len(allStationsSimplelist)\n",
        "\togIndex = allStationsSimplelist.index(station)\n",
        "\tbread.append([ogIndex])\n",
        "\tfoundStationsSimpleList = [0 for i in range(totalStations)] #this is very cool!! apparently very fast too\n",
        "\tfoundStationsSimpleList[ogIndex] = 1\n",
        "\tfoundStations = 1\n",
        "\twhile True:\n",
        "\t\tnextTripLevel = {neighbor[1] for stationVisited in bread[trips] \n",
        "\t\t\tfor neighbor in connections[stationVisited][1:] \n",
        "\t\t\t\tif foundStationsSimpleList[neighbor[1]] == 0} #set comprehension, cool\n",
        "\t\tfor ele in nextTripLevel:\n",
        "\t\t\tfoundStationsSimpleList[ele] = 1\n",
        "\t\tfoundStations += len(nextTripLevel)\n",
        "\t\tif foundStations >= totalStations:\n",
        "\t\t\treturn allStationsSimplelist[list(nextTripLevel)[-1]], trips + 1\n",
        "\t\tbread.append(nextTripLevel)\n",
        "\t\ttrips += 1"
      ],
      "metadata": {
        "id": "bCCYzWwYUDes"
      },
      "execution_count": 16,
      "outputs": []
    },
    {
      "cell_type": "code",
      "source": [
        "cProfile.run('longestFromStation(\"Casa de Campo\")')\n",
        "print (longestFromStation(\"Casa de Campo\")[0])"
      ],
      "metadata": {
        "id": "vPx89rnDUN8b"
      },
      "execution_count": null,
      "outputs": []
    },
    {
      "cell_type": "code",
      "source": [
        "def getLongestTripFast(): #fine but can be faster, slows down a lot with more stations added\n",
        "\tmaxTrips = 0\n",
        "\tfor c1 in connections:\n",
        "\t\tcandidate = longestFromStation(c1[0][0])\n",
        "\t\tif candidate[1] > maxTrips:\n",
        "\t\t\tmaxTrips = candidate[1]\n",
        "\t\t\twinnercities = (c1[0][0], candidate[0])\n",
        "\tprint (\"\\n\\033[0;32mLas estaciones que más lejos están son \\033[0;36m\" + winnercities[0] + \"\\033[0;32m y \\033[0;36m\" + winnercities[1] + \"\\033[0;32m, a \\033[0;33m\" + str(maxTrips) + \"\\033[0;32m paradas\\033[0m\\n\")"
      ],
      "metadata": {
        "id": "HVymJj8sV49o"
      },
      "execution_count": 32,
      "outputs": []
    },
    {
      "cell_type": "code",
      "source": [
        "cProfile.run('getLongestTripFast()')"
      ],
      "metadata": {
        "id": "5r5Su42xV9dD"
      },
      "execution_count": null,
      "outputs": []
    },
    {
      "cell_type": "code",
      "source": [
        "getLongestTripFast()"
      ],
      "metadata": {
        "colab": {
          "base_uri": "https://localhost:8080/"
        },
        "id": "GaLuqvoqXk50",
        "outputId": "9bfcc30c-1287-4a7d-f7b1-6c47c4b850fe"
      },
      "execution_count": 33,
      "outputs": [
        {
          "output_type": "stream",
          "name": "stdout",
          "text": [
            "\n",
            "\u001b[0;32mLas estaciones que más lejos están son \u001b[0;36mHospital del Henares\u001b[0;32m y \u001b[0;36mArroyo Culebro\u001b[0;32m, a \u001b[0;33m44\u001b[0;32m paradas\u001b[0m\n",
            "\n"
          ]
        }
      ]
    },
    {
      "cell_type": "code",
      "source": [
        "def getLongestTripFastER():\n",
        "\tmaxTrips = 0\n",
        "\tcandidates = allStationsSimplelist[:]\n",
        "\tfor neighList in connections:\n",
        "\t\tif len(neighList) == 2:\n",
        "\t\t\toldStation = neighList[0][0]\n",
        "\t\t\tnotCandidate = neighList[1][0]\n",
        "\t\t\tneighbors = connections[neighList[1][1]][1:]\n",
        "\t\t\twhile len(neighbors) <= 3:\n",
        "\t\t\t\tcandidates.pop(candidates.index(notCandidate))\n",
        "\t\t\t\tfor newNei in neighbors:\n",
        "\t\t\t\t\tif newNei[0] != oldStation:\n",
        "\t\t\t\t\t\toldStation = notCandidate\n",
        "\t\t\t\t\t\tnotCandidate = newNei[0]\n",
        "\t\t\t\t\t\tneighbors = connections[newNei[1]][1:]\n",
        "\t\t\t\t\t\tbreak\n",
        "\t#now with a reduced list of candidates we apply the bread\n",
        "\t#print candidates\n",
        "\tfor c1 in candidates:\n",
        "\t\tcandidate = longestFromStation(c1)\n",
        "\t\tif candidate[1] > maxTrips:\n",
        "\t\t\tmaxTrips = candidate[1]\n",
        "\t\t\twinnercities = (c1, candidate[0])\n",
        "\tprint (\"\\n\\033[0;32mLas estaciones que más lejos están son \\033[0;36m\" + winnercities[0] + \"\\033[0;32m y \\033[0;36m\" + winnercities[1] + \"\\033[0;32m, a \\033[0;33m\" + str(maxTrips) + \"\\033[0;32m paradas\\033[0m\\n\")\n",
        "\t#print maxTrips\n",
        "\t#it seems slightly faster than the previous one but I believe it can still be optimized a lot"
      ],
      "metadata": {
        "id": "LrLJVo7wUyfg"
      },
      "execution_count": 21,
      "outputs": []
    },
    {
      "cell_type": "code",
      "source": [
        "cProfile.run('getLongestTripFastER()')"
      ],
      "metadata": {
        "id": "4tkvKpTaU5Fo"
      },
      "execution_count": null,
      "outputs": []
    },
    {
      "cell_type": "code",
      "source": [
        "getLongestTripFastER()"
      ],
      "metadata": {
        "colab": {
          "base_uri": "https://localhost:8080/"
        },
        "id": "c3Xvd63_XhKr",
        "outputId": "6945995e-99c5-450f-ec1d-0fa0896437db"
      },
      "execution_count": 30,
      "outputs": [
        {
          "output_type": "stream",
          "name": "stdout",
          "text": [
            "\n",
            "\u001b[0;32mLas estaciones que más lejos están son \u001b[0;36mHospital del Henares\u001b[0;32m y \u001b[0;36mArroyo Culebro\u001b[0;32m, a \u001b[0;33m44\u001b[0;32m paradas\u001b[0m\n",
            "\n"
          ]
        }
      ]
    },
    {
      "cell_type": "code",
      "source": [
        "def getCentralStation(): #raw, unoptimized for now\n",
        "\tminTrips = 500\n",
        "\tfor c1 in allStationsSimplelist:\n",
        "\t\tcandidate = longestFromStation(c1)\n",
        "\t\tif candidate[1] <= minTrips:\n",
        "\t\t\tminTrips = candidate[1]\n",
        "\t\t\twinnercities = (c1, candidate[0])\n",
        "\tprint (\"\\n\\033[0;32mLa estación mejor comunicada es \\033[0;36m\" + winnercities[0] + \"\\033[0;32m y la que tiene más lejos es \\033[0;36m\" + winnercities[1] + \"\\033[0;32m, a \\033[0;33m\" + str(minTrips) + \"\\033[0;32m paradas\\033[0m\\n\")"
      ],
      "metadata": {
        "id": "Gt-VUCr1WRQr"
      },
      "execution_count": 26,
      "outputs": []
    },
    {
      "cell_type": "code",
      "source": [
        "cProfile.run('getCentralStation()')"
      ],
      "metadata": {
        "id": "BAQq_CahWSVc"
      },
      "execution_count": null,
      "outputs": []
    },
    {
      "cell_type": "code",
      "source": [
        "getCentralStation()"
      ],
      "metadata": {
        "colab": {
          "base_uri": "https://localhost:8080/"
        },
        "id": "Js12kex9Xdo0",
        "outputId": "7ce02e89-a9ab-42e1-e203-3afc4d2bde00"
      },
      "execution_count": 29,
      "outputs": [
        {
          "output_type": "stream",
          "name": "stdout",
          "text": [
            "\n",
            "\u001b[0;32mLa estación mejor comunicada es \u001b[0;36mPríncipe Pío\u001b[0;32m y la que tiene más lejos es \u001b[0;36mHospital del Henares\u001b[0;32m, a \u001b[0;33m22\u001b[0;32m paradas\u001b[0m\n",
            "\n"
          ]
        }
      ]
    }
  ]
}