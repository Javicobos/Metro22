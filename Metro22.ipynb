{
  "nbformat": 4,
  "nbformat_minor": 0,
  "metadata": {
    "colab": {
      "name": "Metro22.ipynb",
      "provenance": [],
      "collapsed_sections": [],
      "authorship_tag": "ABX9TyOiq930IWFhUNtjJcZhxrsF",
      "include_colab_link": true
    },
    "kernelspec": {
      "name": "python3",
      "display_name": "Python 3"
    },
    "language_info": {
      "name": "python"
    }
  },
  "cells": [
    {
      "cell_type": "markdown",
      "metadata": {
        "id": "view-in-github",
        "colab_type": "text"
      },
      "source": [
        "<a href=\"https://colab.research.google.com/github/Javicobos/Metro22/blob/master/Metro22.ipynb\" target=\"_parent\"><img src=\"https://colab.research.google.com/assets/colab-badge.svg\" alt=\"Open In Colab\"/></a>"
      ]
    },
    {
      "cell_type": "code",
      "execution_count": 1,
      "metadata": {
        "id": "qpwt8sCKD6D3"
      },
      "outputs": [],
      "source": [
        "L1 = [\"Pinar de Chamartín\", \"Bambú\", \"Chamartín\", \"Plaza de Castilla\", \"Valdeacederas\", \"Tetuán\", \"Estrecho\",\n",
        "\t\t\"Alvarado\", \"Cuatro Caminos\", \"Ríos Rosas\", \"Iglesia\", \"Bilbao\", \"Tribunal\", \"Gran Vía\", \n",
        "\t\t\"Sol\", \"Tirso de Molina\", \"Antón Martín\", \"Estación del Arte\", \"Atocha Renfe\", \"Menéndez Pelayo\", \n",
        "\t\t\"Pacífico\", \"Puente de Vallecas\", \"Nueva Numancia\", \"Portazgo\", \"Alto del Arenal\", \"Miguel Hernández\", \n",
        "\t\t\"Sierra de Guadalupe\", \"Villa de Vallecas\", \"Congosto\", \"La Gavía\", \"Las Suertes\", \"Valdecarros\"]\n",
        "L2 = [\"Cuatro Caminos\", \"Canal\", \"Quevedo\", \"San Bernardo\", \"Noviciado\", \"Santo Domingo\", \"Ópera\", \"Sol\",\n",
        "\t\t\"Sevilla\", \"Banco de España\", \"Retiro\", \"Príncipe de Vergara\", \"Goya\", \"Manuel Becerra\", \"Ventas\", \n",
        "\t\t\"La Elipa\", \"La Almudena\", \"Alsacia\", \"Avenida de Guadalajara\", \"Las Rosas\"]\n",
        "L3 = [\"Moncloa\", \"Argüelles\", \"Ventura Rodríguez\", \"Plaza de España\", \"Callao\", \"Sol\", \"Lavapiés\",\n",
        "\t\t\"Embajadores\", \"Palos de la Frontera\", \"Delicias\", \"Legazpi\", \"Almendrales\", \n",
        "\t\t\"Hospital 12 de Octubre\", \"San Fermín\", \"Ciudad de los Ángeles\", \n",
        "\t\t\"Cruce de Villaverde\", \"San Cristóbal\", \"Villaverde Alto\"]\n",
        "L4 = [\"Argüelles\", \"San Bernardo\", \"Bilbao\", \"Alonso Martínez\", \"Colón\", \"Serrano\", \"Velázquez\", \"Goya\", \n",
        "\t\t\"Lista\", \"Diego de León\", \"Avenida de América\", \"Prosperidad\", \"Alfonso XIII\", \"Avenida de la Paz\", \n",
        "\t\t\"Arturo Soria\", \"Esperanza\", \"Canillas\", \"Mar de Cristal\", \"San Lorenzo\", \"Parque de Santa María\", \n",
        "\t\t\"Hortaleza\", \"Manoteras\", \"Pinar de Chamartín\"]\n",
        "L5 = [\"Casa de Campo\", \"Campamento\", \"Empalme\", \"Aluche\", \"Eugenia de Montijo\", \"Carabanchel\", \"Vista Alegre\", \n",
        "\t\t\"Oporto\", \"Urgel\", \"Marqués de Vadillo\", \"Pirámides\", \"Acacias\", \"Puerta de Toledo\", \"La Latina\", \n",
        "\t\t\"Ópera\", \"Callao\", \"Gran Vía\", \"Chueca\", \"Alonso Martínez\", \"Rubén Darío\", \"Núñez de Balboa\", \n",
        "\t\t\"Diego de León\", \"Ventas\", \"El Carmen\", \"Quintana\", \"Pueblo Nuevo\", \"Ciudad Lineal\", \"Suanzes\", \n",
        "\t\t\"Torre Arias\", \"Canillejas\", \"El Capricho\", \"Alameda de Osuna\"]\n",
        "L6 = [\"Moncloa\", \"Argüelles\", \"Príncipe Pío\", \"Puera del Ángel\", \"Alto de Extremadura\", \"Lucero\", \n",
        "\t\t\"Laguna\", \"Carpetana\", \"Oporto\", \"Opañel\", \"Plaza Elíptica\", \"Usera\", \n",
        "\t\t\"Legazpi\", \"Arganzuela-Planetario\", \"Méndez Álvaro\", \"Pacífico\", \"Conde de Casal\", \n",
        "\t\t\"Sainz de Baranda\",  \"O'Donnell\", \"Manuel Becerra\", \"Diego de León\", \"Avenida de América\", \n",
        "\t\t\"República Argentina\", \"Nuevos Ministerios\", \"Cuatro Caminos\", \"Guzmán el Bueno\", \n",
        "\t\t\"Vicente Aleixandre\", \"Ciudad Universitaria\", \"Moncloa\"]\n",
        "L7 = [\"Pitis\", \"Arroyofresno\", \"Lacoma\", \"Avenida de la Ilustración\", \"Peñagrande\", \"Antonio Machado\",\n",
        "\t\t\"Valdezarza\", \"Francos Rodríguez\", \"Guzmán el Bueno\", \"Islas Filipinas\", \"Canal\", \"Alonso Cano\", \n",
        "\t\t\"Gregorio Marañón\", \"Avenida de América\", \"Cartagena\", \"Parque de las Avenidas\", \"Barrio de la Concepción\", \n",
        "\t\t\"Pueblo Nuevo\", \"Ascao\", \"García Noblejas\", \"Simancas\", \"San Blas\", \"Las Musas\", \"Estadio Metropolitano\", \n",
        "\t\t\"Barrio del Puerto\", \"Coslada Central\", \"La Rambla\", \"San Fernando\", \"Jarama\", \"Henares\", \"Hospital del Henares\"]\n",
        "L8 = [\"Nuevos Ministerios\", \"Colombia\", \"Pinar del Rey\", \"Mar de Cristal\", \"Feria de Madrid\", \"Aeropuerto T1-T2-T3\", \n",
        "\t\t\"Barajas\", \"Aeropuerto T-4\"]\n",
        "L9 = [\"Paco de Lucía\", \"Mirasierra\", \"Herrera Oria\", \"Barrio del Pilar\", \"Ventilla\", \"Plaza de Castilla\", \n",
        "\t\t\"Duque de Pastrana\", \"Pío XII\", \"Colombia\", \"Concha Espina\", \"Cruz del Rayo\", \"Avenida de América\", \n",
        "\t\t\"Núñez de Balboa\", \"Príncipe de Vergara\", \"Ibiza\", \"Sainz de Baranda\", \"Estrella\", \"Vinateros\", \n",
        "\t\t\"Artilleros\", \"Pavones\", \"Valdebernardo\", \"Vicálvaro\", \"San Cipriano\", \"Puerta de Arganda\", \n",
        "\t\t\"Rivas Urbanizaciones\", \"Rivas Futura\", \"Rivas Vaciamadrid\", \"La Poveda\", \"Arganda del Rey\"]\n",
        "L10 = [\"Hospital Infanta Sofía\", \"Reyes Católicos\", \"Baunatal\", \"Manuel de Falla\", \"Marqués de la Valdavia\", \n",
        "\t\t\"La Moraleja\", \"La Granja\", \"Ronda de la Comunicación\", \"Las Tablas\", \"Montecarmelo\", \"Tres Olivos\", \n",
        "\t\t\"Fuencarral\", \"Begoña\", \"Chamartín\", \"Plaza de Castilla\", \"Cuzco\", \"Santiago Bernabéu\", \"Nuevos Ministerios\", \n",
        "\t\t\"Gregorio Marañón\", \"Alonso Martínez\", \"Tribunal\", \"Plaza de España\", \"Príncipe Pío\", \"Lago\", \"Batán\", \n",
        "\t\t\"Casa de Campo\", \"Colonia Jardín\", \"Aviación Española\", \"Cuatro Vientos\", \"Joaquín Vilumbrales\", \"Puerta del Sur\"]\n",
        "L11 = [\"Plaza Elíptica\", \"Abrantes\", \"Pan Bendito\", \"San Francisco\", \"Carabanchel Alto\", \"La Peseta\", \"La Fortuna\"]\n",
        "L12 = [\"Puerta del Sur\" ,\"Parque de Lisboa\", \"Alcorcón Central\", \"Parque Oeste\", \"Universidad Rey Juan Carlos\", \n",
        "\t\t\"Móstoles Central\", \"Pradillo\", \"Hospital del Móstoles\", \"Manuela Malasaña\", \"Loranca\", \"Hopsital de Fuenlabrada\",\n",
        "\t\t\"Parque Europa\", \"Fuenlabrada Central\", \"Parque de los Estado\", \"Arroyo Culebro\", \"Conservatorio\", \"Alonso de Mendoza\", \n",
        "\t\t\"Getafe Central\", \"Juan de la Cierva\", \"El Casar\", \"Los Espartales\", \"El Bercial\", \"El Carrascal\", \"Julián Besteiro\", \n",
        "\t\t\"Casa del Reloj\", \"Hospital Severo Ochoa\", \"Leganés Central\", \"San Nicasio\", \"Puerta del Sur\"]\n",
        "R = [\"Ópera\", \"Príncipe Pío\"]\n",
        "FullMetro = [L1, L2, L3, L4, L5, L6, L7, L8, L9, L10, L11, L12, R]"
      ]
    },
    {
      "cell_type": "code",
      "source": [
        "connections = []\n",
        "allStationsSimplelist = []\n",
        "\n",
        "def isStationThere(station):\n",
        "\tfor i,sublist in enumerate(connections):\n",
        "\t\tif sublist[0][0] == station:\n",
        "\t\t\treturn i\n",
        "\treturn -1\n",
        "\n",
        "def makeConnections():\n",
        "\tfor line in FullMetro:\n",
        "\t\tfor station in line:\n",
        "\t\t\tif station not in allStationsSimplelist:\n",
        "\t\t\t\tallStationsSimplelist.append(station)\n",
        "\tfor line in FullMetro:\n",
        "\t\tlastStationIndex = len(line) - 1\n",
        "\t\tfor e,station in enumerate(line):\n",
        "\t\t\tstationIndex = isStationThere(station)\n",
        "\t\t\tif stationIndex == -1:\n",
        "\t\t\t\tstationIndex = allStationsSimplelist.index(station)\n",
        "\t\t\t\tconnections.append([[station, stationIndex, -1]])\n",
        "\t\t\telse:\n",
        "\t\t\t\tstationIndex = allStationsSimplelist.index(station)\n",
        "\t\t\tif e > 0:\n",
        "\t\t\t\tfor i,subtuple in enumerate(connections[stationIndex]):\n",
        "\t\t\t\t\tif subtuple[0] == line[e-1]:\n",
        "\t\t\t\t\t\tbreak\n",
        "\t\t\t\telse:\n",
        "\t\t\t\t\tconnections[stationIndex].append([line[e-1], allStationsSimplelist.index(line[e-1])])\n",
        "\t\t\tif e < lastStationIndex:\n",
        "\t\t\t\tfor i,subtuple in enumerate(connections[stationIndex]):\n",
        "\t\t\t\t\tif subtuple[0] == line[e+1]:\n",
        "\t\t\t\t\t\tbreak\n",
        "\t\t\t\telse:\n",
        "\t\t\t\t\tconnections[stationIndex].append([line[e+1], allStationsSimplelist.index(line[e+1])])\n",
        "\t\t\t\t\n",
        "import cProfile"
      ],
      "metadata": {
        "id": "3WzPyhisEZhS"
      },
      "execution_count": 2,
      "outputs": []
    },
    {
      "cell_type": "code",
      "source": [
        "cProfile.run('makeConnections()')"
      ],
      "metadata": {
        "id": "UkNVQghdFkRL"
      },
      "execution_count": null,
      "outputs": []
    },
    {
      "cell_type": "code",
      "source": [
        "def connectTwoStationsSecondWay(station1, station2):\n",
        "\tif isStationThere(station1) == -1 or isStationThere(station2) == -1:\n",
        "\t\tprint (\"No conozco esa estación!\")\n",
        "\t\treturn False\n",
        "\tif station1 == station2:\n",
        "\t\tprint (\"Un viaje rapitido\")\n",
        "\t\treturn 0\n",
        "\tbread = []\n",
        "\ttrips = 0\n",
        "\tbread.append([(station1, 0)])\n",
        "\tfoundStationsSimpleList = [(station1, isStationThere(station1))]\n",
        "\twhile True:\n",
        "\t\tnextTripLevel = []\n",
        "\t\tfor i,stationTuple in enumerate(bread[trips]):\n",
        "\t\t\tfor neighbor in connections[isStationThere(stationTuple[0])][1:]:\n",
        "\t\t\t\tif neighbor not in foundStationsSimpleList:\n",
        "\t\t\t\t\tnextTripLevel.append((neighbor[0], i))\n",
        "\t\t\t\t\tfoundStationsSimpleList.append(neighbor)\n",
        "\t\t\t\t\tif neighbor[0] == station2:\n",
        "\t\t\t\t\t\tj = i\n",
        "\t\t\t\t\t\ttoPrint = [neighbor[0]]\n",
        "\t\t\t\t\t\tprint (\"Puedes ir de \" + station1 + ' a ' + station2 + \" en \" + str(trips + 1) + \" viajes pasando por:\")\n",
        "\t\t\t\t\t\twhile trips > -1:\n",
        "\t\t\t\t\t\t\tcity,j = bread[trips][j]\n",
        "\t\t\t\t\t\t\ttrips -= 1\n",
        "\t\t\t\t\t\t\ttoPrint.append(city)\n",
        "\t\t\t\t\t\ttoPrint.reverse()\n",
        "\t\t\t\t\t\tfor k,a in enumerate(toPrint):\n",
        "\t\t\t\t\t\t\tprint (str(k) + \": \" + a)\n",
        "\t\t\t\t\t\treturn trips + 1\n",
        "\t\tbread.append(nextTripLevel)\n",
        "\t\ttrips += 1"
      ],
      "metadata": {
        "id": "g0wQ40A7FDdR"
      },
      "execution_count": null,
      "outputs": []
    },
    {
      "cell_type": "code",
      "source": [
        "cProfile.run('connectTwoStationsSecondWay(\"Casa de Campo\", \"Hospital del Henares\")')"
      ],
      "metadata": {
        "id": "FhjopakaFF0g"
      },
      "execution_count": null,
      "outputs": []
    },
    {
      "cell_type": "code",
      "source": [
        "def longestFromStation(station):\n",
        "\tbread = []\n",
        "\ttrips = 0\n",
        "\ttotalStations = len(allStationsSimplelist)\n",
        "\togIndex = allStationsSimplelist.index(station)\n",
        "\tbread.append([ogIndex])\n",
        "\tfoundStationsSimpleList = [0 for i in range(totalStations)] #this is very cool!! apparently very fast too\n",
        "\tfoundStationsSimpleList[ogIndex] = 1\n",
        "\tfoundStations = 1\n",
        "\twhile True:\n",
        "\t\tnextTripLevel = {neighbor[1] for stationVisited in bread[trips] \n",
        "\t\t\tfor neighbor in connections[stationVisited][1:] \n",
        "\t\t\t\tif foundStationsSimpleList[neighbor[1]] == 0} #set comprehension, cool\n",
        "\t\tfor ele in nextTripLevel:\n",
        "\t\t\tfoundStationsSimpleList[ele] = 1\n",
        "\t\tfoundStations += len(nextTripLevel)\n",
        "\t\tif foundStations >= totalStations:\n",
        "\t\t\treturn allStationsSimplelist[list(nextTripLevel)[-1]], trips + 1\n",
        "\t\tbread.append(nextTripLevel)\n",
        "\t\ttrips += 1"
      ],
      "metadata": {
        "id": "bCCYzWwYUDes"
      },
      "execution_count": 9,
      "outputs": []
    },
    {
      "cell_type": "code",
      "source": [
        "cProfile.run('longestFromStation(\"Casa de Campo\")')\n",
        "print (longestFromStation(\"Casa de Campo\")[0])"
      ],
      "metadata": {
        "id": "vPx89rnDUN8b"
      },
      "execution_count": null,
      "outputs": []
    },
    {
      "cell_type": "code",
      "source": [
        "def getLongestTripFast(): #fine but can be faster, slows down a lot with more stations added\n",
        "\tmaxTrips = 0\n",
        "\tfor c1 in connections:\n",
        "\t\tcandidate = longestFromStation(c1[0][0])\n",
        "\t\tif candidate[1] > maxTrips:\n",
        "\t\t\tmaxTrips = candidate[1]\n",
        "\t\t\twinnercities = (c1[0][0], candidate[0])\n",
        "\tprint (\"\\n\\033[0;32mLas estaciones que más lejos están son \\033[0;36m\" + winnercities[0] + \"\\033[0;32m y \\033[0;36m\" + winnercities[1] + \"\\033[0;32m, a \\033[0;33m\" + str(maxTrips) + \"\\033[0;32m paradas\\033[0m\\n\")"
      ],
      "metadata": {
        "id": "HVymJj8sV49o"
      },
      "execution_count": 10,
      "outputs": []
    },
    {
      "cell_type": "code",
      "source": [
        "cProfile.run('getLongestTripFast()')"
      ],
      "metadata": {
        "id": "5r5Su42xV9dD"
      },
      "execution_count": null,
      "outputs": []
    },
    {
      "cell_type": "code",
      "source": [
        "getLongestTripFast()"
      ],
      "metadata": {
        "id": "GaLuqvoqXk50"
      },
      "execution_count": null,
      "outputs": []
    },
    {
      "cell_type": "code",
      "source": [
        "def longestFromStationPainter(station):\t\t#we \"paint\" neighbors so we know they take at most n+1 trips to get the longest trip if a station took n\n",
        "\tbread = []\n",
        "\ttrips = 0\n",
        "\ttotalStations = len(allStationsSimplelist)\n",
        "\togIndex = allStationsSimplelist.index(station)\n",
        "\tbread.append([ogIndex])\n",
        "\tfoundStationsSimpleList = [0 for i in range(totalStations)]\n",
        "\tfoundStationsSimpleList[ogIndex] = 1\n",
        "\tfoundStations = 1\n",
        "\twhile True:\n",
        "\t\tnextTripLevel = {neighbor[1] for stationVisited in bread[trips] \n",
        "\t\t\tfor neighbor in connections[stationVisited][1:] \n",
        "\t\t\t\tif foundStationsSimpleList[neighbor[1]] == 0}\n",
        "\t\tfor ele in nextTripLevel:\n",
        "\t\t\tfoundStationsSimpleList[ele] = 1\n",
        "\t\tfoundStations += len(nextTripLevel)\n",
        "\t\tif foundStations >= totalStations:\n",
        "\t\t\tstationToReturn = list(nextTripLevel)[-1]\n",
        "\t\t\tfor neighborResult in connections[ogIndex][1:]:\t#we paint the neighbors \n",
        "\t\t\t\tif connections[neighborResult[1]][0][2] == -1 or connections[neighborResult[1]][0][2] < trips + 2:\n",
        "\t\t\t\t\tconnections[neighborResult[1]][0][2] = trips + 2\n",
        "\t\t\t\tfor neighborResultExtra in connections[neighborResult[1]][1:]:\t#two steps\n",
        "\t\t\t\t\tif connections[neighborResultExtra[1]][0][2] == -1 or connections[neighborResultExtra[1]][0][2] < trips + 3:\n",
        "\t\t\t\t\t\tconnections[neighborResultExtra[1]][0][2] = trips + 3\n",
        "\t\t\t\t\tfor neighborResultExtraExtra in connections[neighborResultExtra[1]][1:]:\t#three steps\n",
        "\t\t\t\t\t\tif connections[neighborResultExtraExtra[1]][0][2] == -1 or connections[neighborResultExtraExtra[1]][0][2] < trips + 4:\n",
        "\t\t\t\t\t\t\tconnections[neighborResultExtraExtra[1]][0][2] = trips + 4\n",
        "\t\t\treturn allStationsSimplelist[stationToReturn], trips + 1\n",
        "\t\tbread.append(nextTripLevel)\n",
        "\t\ttrips += 1\n",
        "\n",
        "def getLongestTripFastER():\n",
        "\tmaxTrips = 0\n",
        "\t#candidates = allStationsSimplelist[:]\t#Alex Martelli's opinion (at least back in 2007) about this is, that it is a weird syntax and it does not make sense to use it ever. ;)\n",
        "\tcandidates = []\n",
        "\tsuperCandidates = []\n",
        "\tfor line in connections:\n",
        "\t\tcandidates.append(line[0])\n",
        "\tfor neighList in connections:\n",
        "\t\tif len(neighList) == 2:\n",
        "\t\t\toldStation = neighList[0][:2]\n",
        "\t\t\tnotCandidate = connections[neighList[1][1]][0]\n",
        "\t\t\tneighbors = connections[neighList[1][1]][1:]\n",
        "\t\t\tcandidates.pop(candidates.index(neighList[0]))\n",
        "\t\t\tsuperCandidates.append(neighList[0])\n",
        "\t\t\twhile len(neighbors) <= 2:\n",
        "\t\t\t\t#print (notCandidate)\n",
        "\t\t\t\tcandidates.pop(candidates.index(notCandidate))\n",
        "\t\t\t\t#print (neighbors)\n",
        "\t\t\t\tfor newNei in neighbors:\n",
        "\t\t\t\t\tif newNei != oldStation:\n",
        "\t\t\t\t\t\toldStation = notCandidate[:2]\n",
        "\t\t\t\t\t\tnotCandidate = connections[newNei[1]][0]\n",
        "\t\t\t\t\t\tneighbors = connections[newNei[1]][1:]\n",
        "\t\t\t\t\t\tbreak\n",
        "\t\telif len(neighList) >= 4:\n",
        "\t\t\tcandidates.pop(candidates.index(neighList[0]))\t\t\t\t\t\t#we exclude candidates with 3+ neighbors. This may not always be correct but saves a lot of time\n",
        "\t#now with a reduced list of candidates we apply the bread\n",
        "\t#print (superCandidates)\n",
        "\t#print (candidates)\n",
        "\tfor c0 in superCandidates:\n",
        "\t\tif c0[2] >= maxTrips or c0[2] == -1:\n",
        "\t\t\t#print (connections[isStationThere(c1)][0])\n",
        "\t\t\tcandidate = longestFromStationPainter(c0[0])\n",
        "\t\t\tif candidate[1] > maxTrips:\n",
        "\t\t\t\tmaxTrips = candidate[1]\n",
        "\t\t\t\twinnercities = (c0[0], candidate[0])\n",
        "\tfor c1 in candidates:\n",
        "\t\tif c1[2] >= maxTrips or c1[2] == -1:\n",
        "\t\t\t#print (c1)\n",
        "\t\t\t#print (connections[isStationThere(c1)][0])\n",
        "\t\t\tcandidate = longestFromStationPainter(c1[0])\n",
        "\t\t\tif candidate[1] > maxTrips:\n",
        "\t\t\t\tmaxTrips = candidate[1]\n",
        "\t\t\t\twinnercities = (c1[0], candidate[0])\n",
        "\tprint (\"\\n\\033[0;32mLas estaciones que más lejos están son \\033[0;36m\" + winnercities[0] + \"\\033[0;32m y \\033[0;36m\" + winnercities[1] + \"\\033[0;32m, a \\033[0;33m\" + str(maxTrips) + \"\\033[0;32m paradas\\033[0m\\n\")"
      ],
      "metadata": {
        "id": "LrLJVo7wUyfg"
      },
      "execution_count": 70,
      "outputs": []
    },
    {
      "cell_type": "code",
      "source": [
        "connections = []\n",
        "makeConnections()\n",
        "cProfile.run('getLongestTripFastER()')"
      ],
      "metadata": {
        "id": "4tkvKpTaU5Fo",
        "colab": {
          "base_uri": "https://localhost:8080/"
        },
        "outputId": "cd99e5ca-e9c2-47f0-df79-b773b4d54c33"
      },
      "execution_count": 71,
      "outputs": [
        {
          "output_type": "stream",
          "name": "stdout",
          "text": [
            "\n",
            "\u001b[0;32mLas estaciones que más lejos están son \u001b[0;36mHospital del Henares\u001b[0;32m y \u001b[0;36mArroyo Culebro\u001b[0;32m, a \u001b[0;33m44\u001b[0;32m paradas\u001b[0m\n",
            "\n",
            "         5306 function calls in 0.009 seconds\n",
            "\n",
            "   Ordered by: standard name\n",
            "\n",
            "   ncalls  tottime  percall  cumtime  percall filename:lineno(function)\n",
            "       40    0.002    0.000    0.008    0.000 <ipython-input-70-a750727b92d9>:1(longestFromStationPainter)\n",
            "     1347    0.005    0.000    0.005    0.000 <ipython-input-70-a750727b92d9>:11(<setcomp>)\n",
            "        1    0.000    0.000    0.009    0.009 <ipython-input-70-a750727b92d9>:32(getLongestTripFastER)\n",
            "       40    0.000    0.000    0.000    0.000 <ipython-input-70-a750727b92d9>:7(<listcomp>)\n",
            "        1    0.000    0.000    0.009    0.009 <string>:1(<module>)\n",
            "        3    0.000    0.000    0.001    0.000 iostream.py:195(schedule)\n",
            "        2    0.000    0.000    0.000    0.000 iostream.py:307(_is_master_process)\n",
            "        2    0.000    0.000    0.000    0.000 iostream.py:320(_schedule_flush)\n",
            "        2    0.000    0.000    0.001    0.000 iostream.py:382(write)\n",
            "        3    0.000    0.000    0.000    0.000 iostream.py:93(_event_pipe)\n",
            "        3    0.001    0.000    0.001    0.000 socket.py:480(send)\n",
            "        3    0.000    0.000    0.000    0.000 threading.py:1050(_wait_for_tstate_lock)\n",
            "        3    0.000    0.000    0.000    0.000 threading.py:1092(is_alive)\n",
            "        3    0.000    0.000    0.000    0.000 threading.py:507(is_set)\n",
            "        1    0.000    0.000    0.009    0.009 {built-in method builtins.exec}\n",
            "        2    0.000    0.000    0.000    0.000 {built-in method builtins.isinstance}\n",
            "     1949    0.000    0.000    0.000    0.000 {built-in method builtins.len}\n",
            "        1    0.000    0.000    0.001    0.001 {built-in method builtins.print}\n",
            "        2    0.000    0.000    0.000    0.000 {built-in method posix.getpid}\n",
            "        3    0.000    0.000    0.000    0.000 {method 'acquire' of '_thread.lock' objects}\n",
            "        3    0.000    0.000    0.000    0.000 {method 'append' of 'collections.deque' objects}\n",
            "     1599    0.000    0.000    0.000    0.000 {method 'append' of 'list' objects}\n",
            "        1    0.000    0.000    0.000    0.000 {method 'disable' of '_lsprof.Profiler' objects}\n",
            "      166    0.000    0.000    0.000    0.000 {method 'index' of 'list' objects}\n",
            "      126    0.000    0.000    0.000    0.000 {method 'pop' of 'list' objects}\n",
            "\n",
            "\n"
          ]
        }
      ]
    },
    {
      "cell_type": "code",
      "source": [
        "getLongestTripFastER()"
      ],
      "metadata": {
        "colab": {
          "base_uri": "https://localhost:8080/"
        },
        "id": "c3Xvd63_XhKr",
        "outputId": "685865d7-bd0d-4073-d472-f03451c02b4d"
      },
      "execution_count": null,
      "outputs": [
        {
          "output_type": "stream",
          "name": "stdout",
          "text": [
            "\n",
            "\u001b[0;32mLas estaciones que más lejos están son \u001b[0;36mHospital del Henares\u001b[0;32m y \u001b[0;36mArroyo Culebro\u001b[0;32m, a \u001b[0;33m44\u001b[0;32m paradas\u001b[0m\n",
            "\n"
          ]
        }
      ]
    },
    {
      "cell_type": "code",
      "source": [
        "def longestFromStationCapped(station, cap):\n",
        "\tbread = []\n",
        "\ttrips = 0\n",
        "\ttotalStations = len(allStationsSimplelist)\n",
        "\togIndex = allStationsSimplelist.index(station)\n",
        "\tbread.append([ogIndex])\n",
        "\tfoundStationsSimpleList = [0 for i in range(totalStations)] #this is very cool!! apparently very fast too\n",
        "\tfoundStationsSimpleList[ogIndex] = 1\n",
        "\tfoundStations = 1\n",
        "\twhile True:\n",
        "\t\tnextTripLevel = {neighbor[1] for stationVisited in bread[trips] \n",
        "\t\t\tfor neighbor in connections[stationVisited][1:] \n",
        "\t\t\t\tif foundStationsSimpleList[neighbor[1]] == 0} #set comprehension, cool\n",
        "\t\tfor ele in nextTripLevel:\n",
        "\t\t\tfoundStationsSimpleList[ele] = 1\n",
        "\t\tfoundStations += len(nextTripLevel)\n",
        "\t\tif foundStations >= totalStations:\n",
        "\t\t\treturn allStationsSimplelist[list(nextTripLevel)[-1]], trips + 1\n",
        "\t\tif trips + 1 > cap:\n",
        "\t\t\treturn allStationsSimplelist[list(nextTripLevel)[-1]], trips + 1 \t#we're looking for short trips, so we stop if our trip is longer than the cap\n",
        "\t\tbread.append(nextTripLevel)\n",
        "\t\ttrips += 1\n",
        "\n",
        "def getCentralStation():\n",
        "\tminTrips = 500\n",
        "\tcandidates = allStationsSimplelist[:]\n",
        "\tfor neighList in connections:\n",
        "\t\tif len(neighList) == 2:\n",
        "\t\t\tcandidates.pop(candidates.index(neighList[0][0]))\n",
        "\tfor c1 in candidates:\n",
        "\t\tcandidate = longestFromStationCapped(c1, minTrips)\n",
        "\t\tif candidate[1] <= minTrips:\n",
        "\t\t\tminTrips = candidate[1]\n",
        "\t\t\twinnercities = (c1, candidate[0])\n",
        "\tprint (\"\\n\\033[0;32mLa estación mejor comunicada es \\033[0;36m\" + winnercities[0] + \"\\033[0;32m y la que tiene más lejos es \\033[0;36m\" + winnercities[1] + \"\\033[0;32m, a \\033[0;33m\" + str(minTrips) + \"\\033[0;32m paradas\\033[0m\\n\")"
      ],
      "metadata": {
        "id": "Gt-VUCr1WRQr"
      },
      "execution_count": null,
      "outputs": []
    },
    {
      "cell_type": "markdown",
      "source": [
        "If we're looking for a short trip, it makes sense to \n",
        "a) start from stations that have many connections, look for longest trips from them"
      ],
      "metadata": {
        "id": "5sQU_euYoR8E"
      }
    },
    {
      "cell_type": "code",
      "source": [
        "cProfile.run('getCentralStation()')"
      ],
      "metadata": {
        "id": "BAQq_CahWSVc",
        "colab": {
          "base_uri": "https://localhost:8080/"
        },
        "outputId": "5e16c1f5-8492-4972-f2ab-b3136d154ffe"
      },
      "execution_count": null,
      "outputs": [
        {
          "output_type": "stream",
          "name": "stdout",
          "text": [
            "\n",
            "\u001b[0;32mLa estación mejor comunicada es \u001b[0;36mPríncipe Pío\u001b[0;32m y la que tiene más lejos es \u001b[0;36mHospital del Henares\u001b[0;32m, a \u001b[0;33m22\u001b[0;32m paradas\u001b[0m\n",
            "\n",
            "         17644 function calls in 0.047 seconds\n",
            "\n",
            "   Ordered by: standard name\n",
            "\n",
            "   ncalls  tottime  percall  cumtime  percall filename:lineno(function)\n",
            "      230    0.012    0.000    0.045    0.000 <ipython-input-131-98aa67189260>:1(longestFromStationCapped)\n",
            "     5474    0.029    0.000    0.029    0.000 <ipython-input-131-98aa67189260>:11(<setcomp>)\n",
            "        1    0.001    0.001    0.047    0.047 <ipython-input-131-98aa67189260>:24(getCentralStation)\n",
            "      230    0.002    0.000    0.002    0.000 <ipython-input-131-98aa67189260>:7(<listcomp>)\n",
            "        1    0.000    0.000    0.047    0.047 <string>:1(<module>)\n",
            "        3    0.000    0.000    0.001    0.000 iostream.py:195(schedule)\n",
            "        2    0.000    0.000    0.000    0.000 iostream.py:307(_is_master_process)\n",
            "        2    0.000    0.000    0.000    0.000 iostream.py:320(_schedule_flush)\n",
            "        2    0.000    0.000    0.001    0.001 iostream.py:382(write)\n",
            "        3    0.000    0.000    0.000    0.000 iostream.py:93(_event_pipe)\n",
            "        3    0.001    0.000    0.001    0.000 socket.py:480(send)\n",
            "        3    0.000    0.000    0.000    0.000 threading.py:1050(_wait_for_tstate_lock)\n",
            "        3    0.000    0.000    0.000    0.000 threading.py:1092(is_alive)\n",
            "        3    0.000    0.000    0.000    0.000 threading.py:507(is_set)\n",
            "        1    0.000    0.000    0.047    0.047 {built-in method builtins.exec}\n",
            "        2    0.000    0.000    0.000    0.000 {built-in method builtins.isinstance}\n",
            "     5945    0.000    0.000    0.000    0.000 {built-in method builtins.len}\n",
            "        1    0.000    0.000    0.001    0.001 {built-in method builtins.print}\n",
            "        2    0.000    0.000    0.000    0.000 {built-in method posix.getpid}\n",
            "        3    0.000    0.000    0.000    0.000 {method 'acquire' of '_thread.lock' objects}\n",
            "        3    0.000    0.000    0.000    0.000 {method 'append' of 'collections.deque' objects}\n",
            "     5474    0.000    0.000    0.000    0.000 {method 'append' of 'list' objects}\n",
            "        1    0.000    0.000    0.000    0.000 {method 'disable' of '_lsprof.Profiler' objects}\n",
            "      241    0.001    0.000    0.001    0.000 {method 'index' of 'list' objects}\n",
            "       11    0.000    0.000    0.000    0.000 {method 'pop' of 'list' objects}\n",
            "\n",
            "\n"
          ]
        }
      ]
    },
    {
      "cell_type": "code",
      "source": [
        "getCentralStation()"
      ],
      "metadata": {
        "colab": {
          "base_uri": "https://localhost:8080/"
        },
        "id": "Js12kex9Xdo0",
        "outputId": "10e8e122-15c0-4c6e-a2e5-ec6ac7cd26b6"
      },
      "execution_count": null,
      "outputs": [
        {
          "output_type": "stream",
          "name": "stdout",
          "text": [
            "\n",
            "\u001b[0;32mLa estación mejor comunicada es \u001b[0;36mPríncipe Pío\u001b[0;32m y la que tiene más lejos es \u001b[0;36mHospital del Henares\u001b[0;32m, a \u001b[0;33m22\u001b[0;32m paradas\u001b[0m\n",
            "\n"
          ]
        }
      ]
    },
    {
      "cell_type": "code",
      "source": [
        "def longestFromStationCappedPainter(station, cap):\n",
        "\tbread = []\n",
        "\ttrips = 0\n",
        "\ttotalStations = len(allStationsSimplelist)\n",
        "\togIndex = allStationsSimplelist.index(station)\n",
        "\tbread.append([ogIndex])\n",
        "\tfoundStationsSimpleList = [0 for i in range(totalStations)]\n",
        "\tfoundStationsSimpleList[ogIndex] = 1\n",
        "\tfoundStations = 1\n",
        "\twhile True:\n",
        "\t\tnextTripLevel = {neighbor[1] for stationVisited in bread[trips] \n",
        "\t\t\tfor neighbor in connections[stationVisited][1:] \n",
        "\t\t\t\tif foundStationsSimpleList[neighbor[1]] == 0}\n",
        "\t\tfor ele in nextTripLevel:\n",
        "\t\t\tfoundStationsSimpleList[ele] = 1\n",
        "\t\tfoundStations += len(nextTripLevel)\n",
        "\t\tif foundStations >= totalStations:\n",
        "\t\t\tstationToReturn = list(nextTripLevel)[-1]\n",
        "\t\t\tfor neighborResult in connections[ogIndex][1:]:\t#we paint the neighbors \n",
        "\t\t\t\tif connections[neighborResult[1]][0][2] == -1 or connections[neighborResult[1]][0][2] > trips:\n",
        "\t\t\t\t\tconnections[neighborResult[1]][0][2] = trips\n",
        "\t\t\t\tfor neighborResultExtra in connections[neighborResult[1]][1:]:\t#two steps\n",
        "\t\t\t\t\tif connections[neighborResultExtra[1]][0][2] == -1 or connections[neighborResultExtra[1]][0][2] > trips -1:\n",
        "\t\t\t\t\t\tconnections[neighborResultExtra[1]][0][2] = trips -1\n",
        "\t\t\t\t\tfor neighborResultExtraExtra in connections[neighborResultExtra[1]][1:]:\t#three steps\n",
        "\t\t\t\t\t\tif connections[neighborResultExtraExtra[1]][0][2] == -1 or connections[neighborResultExtraExtra[1]][0][2] > trips -2:\n",
        "\t\t\t\t\t\t\tconnections[neighborResultExtraExtra[1]][0][2] = trips -2\n",
        "\t\t\treturn allStationsSimplelist[list(nextTripLevel)[-1]], trips + 1\n",
        "\t\tif trips + 1 > cap:\n",
        "\t\t\treturn allStationsSimplelist[list(nextTripLevel)[-1]], trips + 1 \t#we're looking for short trips, so we stop if our trip is longer than the cap\n",
        "\t\tbread.append(nextTripLevel)\n",
        "\t\ttrips += 1\n",
        "\n",
        "def getCentralStationFaster(): #we're going to look at stations in order of most connected to least connected\n",
        "\tminTrips = 500\n",
        "\tcandidates = []\n",
        "\tfor neighList in connections:\n",
        "\t\tcandidates.append([len(neighList), neighList[0]])\n",
        "\tcandidates.sort(reverse=True)\n",
        "\tfor c1 in candidates:\n",
        "\t\tif c1[0] < 4:       #very arbitrary and harcoded but it's a nice little control point\n",
        "\t\t\tbreak\n",
        "\t\tif c1[1][2] <= minTrips:\n",
        "\t\t\tcandidate = longestFromStationCappedPainter(c1[1][0], minTrips)\n",
        "\t\t\tif candidate[1] <= minTrips:\n",
        "\t\t\t\tminTrips = candidate[1]\n",
        "\t\t\t\twinnercities = (c1[1][0], candidate[0])\n",
        "\tprint (\"\\n\\033[0;32mLa estación mejor comunicada es \\033[0;36m\" + winnercities[0] + \"\\033[0;32m y la que tiene más lejos es \\033[0;36m\" + winnercities[1] + \"\\033[0;32m, a \\033[0;33m\" + str(minTrips) + \"\\033[0;32m paradas\\033[0m\\n\")"
      ],
      "metadata": {
        "id": "xflBfH9_v-yl"
      },
      "execution_count": 82,
      "outputs": []
    },
    {
      "cell_type": "code",
      "source": [
        "cProfile.run('getCentralStationFaster()')"
      ],
      "metadata": {
        "colab": {
          "base_uri": "https://localhost:8080/"
        },
        "id": "9gSookUuyQfs",
        "outputId": "830c4c41-447b-4e7b-f1a0-547bfb14fae9"
      },
      "execution_count": 83,
      "outputs": [
        {
          "output_type": "stream",
          "name": "stdout",
          "text": [
            "\n",
            "\u001b[0;32mLa estación mejor comunicada es \u001b[0;36mPríncipe Pío\u001b[0;32m y la que tiene más lejos es \u001b[0;36mHospital del Henares\u001b[0;32m, a \u001b[0;33m22\u001b[0;32m paradas\u001b[0m\n",
            "\n",
            "         2073 function calls in 0.009 seconds\n",
            "\n",
            "   Ordered by: standard name\n",
            "\n",
            "   ncalls  tottime  percall  cumtime  percall filename:lineno(function)\n",
            "       21    0.002    0.000    0.007    0.000 <ipython-input-82-9d4e8a47450c>:1(longestFromStationCappedPainter)\n",
            "      489    0.004    0.000    0.004    0.000 <ipython-input-82-9d4e8a47450c>:11(<setcomp>)\n",
            "        1    0.000    0.000    0.008    0.008 <ipython-input-82-9d4e8a47450c>:34(getCentralStationFaster)\n",
            "       21    0.000    0.000    0.000    0.000 <ipython-input-82-9d4e8a47450c>:7(<listcomp>)\n",
            "        1    0.000    0.000    0.008    0.008 <string>:1(<module>)\n",
            "        3    0.000    0.000    0.001    0.000 iostream.py:195(schedule)\n",
            "        2    0.000    0.000    0.000    0.000 iostream.py:307(_is_master_process)\n",
            "        2    0.000    0.000    0.000    0.000 iostream.py:320(_schedule_flush)\n",
            "        2    0.000    0.000    0.001    0.000 iostream.py:382(write)\n",
            "        3    0.000    0.000    0.000    0.000 iostream.py:93(_event_pipe)\n",
            "        3    0.001    0.000    0.001    0.000 socket.py:480(send)\n",
            "        3    0.000    0.000    0.000    0.000 threading.py:1050(_wait_for_tstate_lock)\n",
            "        3    0.000    0.000    0.000    0.000 threading.py:1092(is_alive)\n",
            "        3    0.000    0.000    0.000    0.000 threading.py:507(is_set)\n",
            "        1    0.000    0.000    0.009    0.009 {built-in method builtins.exec}\n",
            "        2    0.000    0.000    0.000    0.000 {built-in method builtins.isinstance}\n",
            "      751    0.000    0.000    0.000    0.000 {built-in method builtins.len}\n",
            "        1    0.000    0.000    0.001    0.001 {built-in method builtins.print}\n",
            "        2    0.000    0.000    0.000    0.000 {built-in method posix.getpid}\n",
            "        3    0.000    0.000    0.000    0.000 {method 'acquire' of '_thread.lock' objects}\n",
            "        3    0.000    0.000    0.000    0.000 {method 'append' of 'collections.deque' objects}\n",
            "      730    0.000    0.000    0.000    0.000 {method 'append' of 'list' objects}\n",
            "        1    0.000    0.000    0.000    0.000 {method 'disable' of '_lsprof.Profiler' objects}\n",
            "       21    0.000    0.000    0.000    0.000 {method 'index' of 'list' objects}\n",
            "        1    0.000    0.000    0.000    0.000 {method 'sort' of 'list' objects}\n",
            "\n",
            "\n"
          ]
        }
      ]
    }
  ]
}